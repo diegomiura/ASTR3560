{
 "cells": [
  {
   "cell_type": "markdown",
   "id": "be18b456",
   "metadata": {},
   "source": [
    "---\n",
    "title: A356 Lab 6 — Neural networks \n",
    "subtitle: Finding and reproducing literature results \n",
    "authors:\n",
    "  - name: Earl Patrick Bellinger\n",
    "    orcid: 0000-0003-4456-4863\n",
    "    affiliations:\n",
    "      - Department of Astronomy, Yale University\n",
    "license: CC-BY-4.0\n",
    "---"
   ]
  },
  {
   "cell_type": "markdown",
   "id": "4d6b6c93-1f89-43b8-9c22-7ac0c0f4997e",
   "metadata": {},
   "source": [
    "## Learning Goals \n",
    "\n",
    "In this lab, you will learn how to: \n",
    "1. Read a modern astrostatistics paper \n",
    "2. Reproduce its results\n",
    "3. Work with a partner\n",
    "4. Present to the class "
   ]
  },
  {
   "attachments": {},
   "cell_type": "markdown",
   "id": "eac25232",
   "metadata": {
    "tags": []
   },
   "source": [
    "## Overview \n",
    "\n",
    "This lab is different from the others. You will work with a partner to find an astrostatistics paper that uses a neural network. Read the paper, download any associated code, and reproduce the main results in this notebook. You may (and are encouraged to) use code prepared by the authors. You and your partner will then prepare a 5 minute presentation to be delivered in class next week. \n",
    "\n",
    "To aid your search, [here](https://ui.adsabs.harvard.edu/search/filter_database_fq_database=AND&filter_database_fq_database=((database%3Aastronomy%20OR%20database%3Aphysics))&filter_database_fq_database=database%3A%22astronomy%22&filter_property_fq_property=AND&filter_property_fq_property=property%3A%22refereed%22&fq=%7B!type%3Daqp%20v%3D%24fq_database%7D&fq=%7B!type%3Daqp%20v%3D%24fq_property%7D&fq_database=(((database%3Aastronomy%20OR%20database%3Aphysics))%20AND%20database%3A%22astronomy%22)&fq_property=(property%3A%22refereed%22)&q=abstract%3A%22neural%20network%22%20year%3A2015-2025&sort=citation_count%20desc%2C%20bibcode%20desc&p_=0) is an adsabs search for the most highly-cited astronomy papers featuring \"neural network\" in the abstract in the last ten years. \n",
    "\n",
    "To avoid duplicate papers, please write your names and the paper you will present in [this spreadsheet](https://docs.google.com/spreadsheets/d/1wmQzXKzc2nOuSOER7oz5q4qwV8lpmrdttJimvtHZxAo/edit?usp=sharing). \n",
    "\n",
    "Please either include a link to your slides or upload your slides with your submission. "
   ]
  },
  {
   "cell_type": "code",
   "execution_count": null,
   "id": "2ede472d-a767-4315-af6a-bc44bf48b006",
   "metadata": {},
   "outputs": [],
   "source": [
    "## Your code here \n",
    "\n"
   ]
  }
 ],
 "metadata": {
  "kernelspec": {
   "display_name": "pset6",
   "language": "python",
   "name": "python3"
  },
  "language_info": {
   "codemirror_mode": {
    "name": "ipython",
    "version": 3
   },
   "file_extension": ".py",
   "mimetype": "text/x-python",
   "name": "python",
   "nbconvert_exporter": "python",
   "pygments_lexer": "ipython3",
   "version": "3.13.7"
  }
 },
 "nbformat": 4,
 "nbformat_minor": 5
}
